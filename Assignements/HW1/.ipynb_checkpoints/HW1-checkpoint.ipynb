{
 "cells": [
  {
   "cell_type": "markdown",
   "id": "aaa8002c-2597-4c8e-ab83-f4714fb73313",
   "metadata": {},
   "source": [
    "<table>\n",
    " <tr align=left><td><img align=left src=\"https://mirrors.creativecommons.org/presskit/buttons/80x15/png/by.png\">\n",
    " <td>This notebook is provided under the Creative Commons Attribution license, CC-BY 4.0. All code is made available under MIT License (c) Arash Sarshar.</td>\n",
    " <td> </td>\n",
    "</table>"
   ]
  },
  {
   "cell_type": "markdown",
   "id": "6fed390d-0c2a-4d8d-afb1-4769b373c7b1",
   "metadata": {},
   "source": [
    "## Some ground rules for writing good responses in your assignments\n",
    "\n",
    "* Make sure that you provide ample comments to communicate what you are trying to do clearly. Do not assume that anyone reading the code would immediately  understand the context.\n",
    "* If you need to create new variables, think about naming them in descriptive ways.\n",
    "* Each and every output should be reproducible. If you are creating a plot, make sure you include the code for that plot. \n",
    "* Cite your references, including AI ones.\n"
   ]
  },
  {
   "cell_type": "markdown",
   "id": "f79801b1-3e2c-4752-920f-7bf5cec200fe",
   "metadata": {},
   "source": [
    "## Let's load the lemon picture again"
   ]
  },
  {
   "cell_type": "code",
   "execution_count": 3,
   "id": "98fe0bbd-5ff3-4448-bb49-95569363a75e",
   "metadata": {
    "tags": []
   },
   "outputs": [],
   "source": [
    "import numpy as np\n",
    "from numpy.linalg import *\n",
    "from PIL import Image\n",
    "import matplotlib.pyplot as plt"
   ]
  },
  {
   "cell_type": "markdown",
   "id": "531febf2-ba44-4bae-b03b-7c3237d113dc",
   "metadata": {},
   "source": [
    "PIL stands for Python Imaging Library, and it provides the necessary tools and functions for handling images in Python. It is used for image processing, manipulation, and analysis."
   ]
  },
  {
   "cell_type": "code",
   "execution_count": 8,
   "id": "c558d467-b3e3-4d2f-8161-cd569de2c874",
   "metadata": {
    "tags": []
   },
   "outputs": [],
   "source": [
    "image = np.array(Image.open('../../Images/lemon.jpeg'))"
   ]
  },
  {
   "cell_type": "code",
   "execution_count": null,
   "id": "ccba2a6b-9605-40e6-b22d-2959a10f8755",
   "metadata": {
    "tags": []
   },
   "outputs": [],
   "source": []
  },
  {
   "cell_type": "markdown",
   "id": "9543e860-c502-4dd5-9a31-533794deed48",
   "metadata": {
    "tags": []
   },
   "source": [
    "## Part 1\n",
    "\n",
    "Write a block of commands that does the following.  \n",
    "\n",
    "1. Print the shape of the image \n",
    "1. Create a new variable called `img_single_channel` that is equivalent to __the last color channel__ of `image`\n",
    "3. Print the shape of `img_single_channel` to check that it has the same number of pixels as the original image\n",
    "4. Use `plt.imshow` to plot  `img_single_channel`\n",
    "\n",
    "\n",
    "\n"
   ]
  },
  {
   "cell_type": "markdown",
   "id": "88cbdedf-8ada-446d-821f-e12ce1c2bd34",
   "metadata": {},
   "source": [
    "## Part 2\n",
    "\n",
    "Write a block of commands that does the following.  \n",
    "\n",
    "1. Create a new variable called `img_average_channel` that is equivalent to __the average of all three color channels__ of `image`\n",
    "3. Print the shape of `img_average_channel` to check that it has the same number of pixels as the original image\n",
    "4. Use `plt.imshow` to plot  the original image in `image`, compare the result with the result of `Part 1`, and comment on the differences and which one you would say is better"
   ]
  },
  {
   "cell_type": "code",
   "execution_count": null,
   "id": "92174145-5893-4eb6-af7b-e9103ce30757",
   "metadata": {},
   "outputs": [],
   "source": []
  },
  {
   "cell_type": "markdown",
   "id": "a53abc3b-06c4-4f38-b2a7-4b456669bf38",
   "metadata": {
    "tags": []
   },
   "source": [
    "## Part 3\n",
    "\n",
    "1. Describe what an identity matrix is. What does multiplying with an identity matrix do?\n",
    "1. Create an identity matrix called `identity_matrix` that has the same size as `img_average_channel`.\n",
    "2. Print a random row out of `identity_matrix` and describe your observations."
   ]
  },
  {
   "cell_type": "code",
   "execution_count": null,
   "id": "f2e8e797-a23e-476c-a641-a90d377db5a3",
   "metadata": {
    "tags": []
   },
   "outputs": [],
   "source": []
  },
  {
   "cell_type": "markdown",
   "id": "902c8f5e-1550-4202-9d4e-5702c7905c12",
   "metadata": {},
   "source": [
    "## Part 4\n",
    "\n",
    "We are going to use `identity_matrix` to scramble the rows and columns of `img_average_channel`. \n",
    "\n",
    "1. First, create a numpy array that contains the numbers $0,1, \\cdots, N$ where $N$ is the number of rows in the image.\n",
    "\n",
    "2. Use `numpy.random.shuffle` to shuffle the indices. Call the shuffled array, `rows`\n",
    "\n",
    "4. Print `rows` and inspect the elements."
   ]
  },
  {
   "cell_type": "code",
   "execution_count": null,
   "id": "4572fc2e-d64b-44a4-88cd-39a5b4185f69",
   "metadata": {},
   "outputs": [],
   "source": []
  },
  {
   "cell_type": "markdown",
   "id": "85d97446-8b99-4196-ade5-852c016ebf67",
   "metadata": {},
   "source": [
    "## Part 5\n",
    "\n",
    "1. Use your array of random row indices to create a new matrix `T` from `identity_matrix`. Overall, `T` has the same elements as `identity_matrix`, but the order of the rows of `T` should be according to the variable `rows`\n",
    "2. Take a moment to think about what we are doing here. Describe in your own words what matrix `T` is.\n",
    "3. Sanity check, print the shape of `T` and make sure it is the same size as `identity_matrix` and `img_average_channel`. If you need to,  reshape it to have the same size.\n"
   ]
  },
  {
   "cell_type": "code",
   "execution_count": null,
   "id": "a524a103-c2df-4320-a990-18e0d5784981",
   "metadata": {
    "tags": []
   },
   "outputs": [],
   "source": []
  },
  {
   "cell_type": "markdown",
   "id": "9bdb662e-64d6-4cf9-93e2-df76f8f81985",
   "metadata": {},
   "source": [
    "## Part 6\n",
    "\n",
    "1. Matrix multiply `T` and `img_average_channel` and store the result in `transformed_image`. Check the shape of the result.\n",
    "2. Plot `transformed_image` and describe the pattern you see. \n",
    "3. Think about what each dot product in the matrix multiplication is doing. Describe in your own words what this transformation is doing to the original image. "
   ]
  },
  {
   "cell_type": "code",
   "execution_count": null,
   "id": "46ef55fc-8d5b-489e-95e3-f51e41833b3e",
   "metadata": {},
   "outputs": [],
   "source": []
  },
  {
   "cell_type": "markdown",
   "id": "17b82882-aa4f-40a9-9295-22e57bcb7e35",
   "metadata": {},
   "source": [
    "## Part 7\n",
    "\n",
    "1. We now want to retrieve the original image. Is matrix `T` invertible? How would you show that it is invertible?\n",
    "2. Compute the inverse and store the matrix in `Tinv`.\n",
    "3. Perform the inverse of the scrambling operation and plot the result to show that you retrieved the original image."
   ]
  },
  {
   "cell_type": "code",
   "execution_count": null,
   "id": "b1b8a0de-42ca-4332-a514-c370e90a6967",
   "metadata": {
    "tags": []
   },
   "outputs": [],
   "source": []
  },
  {
   "cell_type": "markdown",
   "id": "99ba6083-2f4b-4a02-9e4b-1b9187a70369",
   "metadata": {},
   "source": [
    "## Part 8: Extra Points\n",
    "\n",
    "* We want to perform the same operations but on the columns of the original image. How would you do the matrix algebra? Plot the scrambled image for the proof of concept.\n"
   ]
  },
  {
   "cell_type": "markdown",
   "id": "b71b9981-b112-46dc-8eca-b8174b67aace",
   "metadata": {},
   "source": [
    "## Extra Points\n",
    "\n",
    "* Now can you perform the scrambling on __both the columns and rows__ of the original image?  Write the code and plot the scrambled image. Then invert the operations and show that you can recover the original image. "
   ]
  },
  {
   "cell_type": "code",
   "execution_count": null,
   "id": "1501dafa-75c9-4ae4-b322-6b80956fea67",
   "metadata": {},
   "outputs": [],
   "source": []
  }
 ],
 "metadata": {
  "kernelspec": {
   "display_name": "Python 3 (ipykernel)",
   "language": "python",
   "name": "python3"
  },
  "language_info": {
   "codemirror_mode": {
    "name": "ipython",
    "version": 3
   },
   "file_extension": ".py",
   "mimetype": "text/x-python",
   "name": "python",
   "nbconvert_exporter": "python",
   "pygments_lexer": "ipython3",
   "version": "3.11.5"
  }
 },
 "nbformat": 4,
 "nbformat_minor": 5
}
